{
 "cells": [
  {
   "cell_type": "code",
   "execution_count": 1,
   "metadata": {},
   "outputs": [],
   "source": [
    "import os\n",
    "from skimage import data, io, color, transform\n",
    "import numpy as np\n",
    "import pandas as pd\n",
    "import cv2 as cv"
   ]
  },
  {
   "cell_type": "code",
   "execution_count": 2,
   "metadata": {},
   "outputs": [],
   "source": [
    "catla_img_path = \"Local/Catla/\"\n",
    "carpio_img_path = \"Local/Cyprinus_carpio/\"\n",
    "carp_img_path = \"Local/Grass_carp/\"\n",
    "mori_img_path = \"Local/Mori/\"\n",
    "rohu_img_path = \"Local/Rohu/\"\n",
    "silver_img_path = \"Local/Silver/\"\n",
    "\n",
    "black_sea_sprat_img_path = \"Coastal/Black_Sea_Sprat/\"\n",
    "gilt_head_bream_img_path = \"Coastal/Gilt_Head_Bream/\"\n",
    "horse_mackerel_img_path = \"Coastal/Horse_Mackerel/\"\n",
    "red_sea_bream_img_path = \"Coastal/Red_Sea_Bream/\"\n",
    "sea_bass_img_path = \"Coastal/Sea_Bass/\"\n",
    "trout_img_path = \"Coastal/Trout/\""
   ]
  },
  {
   "cell_type": "code",
   "execution_count": 3,
   "metadata": {},
   "outputs": [],
   "source": [
    "catla_img_list = os.listdir(catla_img_path)\n",
    "carpio_img_list = os.listdir(carpio_img_path)\n",
    "carp_img_list = os.listdir(carp_img_path)\n",
    "mori_img_list = os.listdir(mori_img_path)\n",
    "rohu_img_list = os.listdir(rohu_img_path)\n",
    "silver_img_list = os.listdir(silver_img_path)\n",
    "\n",
    "black_sea_sprat_img_list = os.listdir(black_sea_sprat_img_path)\n",
    "gilt_head_bream_img_list = os.listdir(gilt_head_bream_img_path)\n",
    "horse_mackerel_img_list = os.listdir(horse_mackerel_img_path)\n",
    "red_sea_bream_img_list = os.listdir(red_sea_bream_img_path)\n",
    "sea_bass_img_list = os.listdir(sea_bass_img_path)\n",
    "trout_img_list = os.listdir(trout_img_path)"
   ]
  },
  {
   "cell_type": "markdown",
   "metadata": {},
   "source": [
    "## No augmentation"
   ]
  },
  {
   "cell_type": "code",
   "execution_count": 4,
   "metadata": {},
   "outputs": [],
   "source": [
    "fish_list = [catla_img_list, carpio_img_list, carp_img_list, mori_img_list, rohu_img_list, silver_img_list, black_sea_sprat_img_list, gilt_head_bream_img_list, horse_mackerel_img_list, red_sea_bream_img_list, sea_bass_img_list, trout_img_list]\n",
    "path_list = [catla_img_path, carpio_img_path, carp_img_path, mori_img_path, rohu_img_path, silver_img_path, black_sea_sprat_img_path, gilt_head_bream_img_path, horse_mackerel_img_path, red_sea_bream_img_path, sea_bass_img_path, trout_img_path]\n",
    "fish_name = [\"catla\", \"carpio\", \"carp\", \"mori\", \"rohu\", \"silver\", \"black_sea_sprat\", \"glit_bream\", \"horse_mackerel\", \"red_bream\", \"sea_bass\",\"trout\"]\n",
    "\n",
    "for i in range(0,12):\n",
    "    cnt = 1\n",
    "    for f in fish_list[i]:\n",
    "        f_name = path_list[i]+f\n",
    "        fish_read = io.imread(f_name)\n",
    "        fish = cv.cvtColor(fish_read, cv.COLOR_BGR2RGB)\n",
    "        fish_resize = cv.resize(fish, (100,100), interpolation=cv.INTER_AREA)\n",
    "        resize_path = \"resized_no_aug/\"+path_list[i]+fish_name[i]+\"_\"+str(cnt)+\".jpg\"\n",
    "        cv.imwrite(resize_path, fish_resize)\n",
    "        cnt+=1"
   ]
  },
  {
   "cell_type": "code",
   "execution_count": 7,
   "metadata": {},
   "outputs": [],
   "source": [
    "for p in path_list:\n",
    "\tos.makedirs('resized_no_aug/'+p)"
   ]
  },
  {
   "cell_type": "markdown",
   "metadata": {},
   "source": [
    "## With augmentation"
   ]
  },
  {
   "cell_type": "code",
   "execution_count": 5,
   "metadata": {},
   "outputs": [],
   "source": [
    "fish_list = [catla_img_list, carpio_img_list, carp_img_list, mori_img_list, rohu_img_list, silver_img_list, black_sea_sprat_img_list, gilt_head_bream_img_list, horse_mackerel_img_list, red_sea_bream_img_list, sea_bass_img_list, trout_img_list]\n",
    "path_list = [catla_img_path, carpio_img_path, carp_img_path, mori_img_path, rohu_img_path, silver_img_path, black_sea_sprat_img_path, gilt_head_bream_img_path, horse_mackerel_img_path, red_sea_bream_img_path, sea_bass_img_path, trout_img_path]\n",
    "fish_name = [\"catla\", \"carpio\", \"carp\", \"mori\", \"rohu\", \"silver\", \"black_sea_sprat\", \"glit_bream\", \"horse_mackerel\", \"red_bream\", \"sea_bass\",\"trout\"]\n",
    "\n",
    "for i in range(0,12):\n",
    "    cnt = 1\n",
    "    for f in fish_list[i]:\n",
    "        f_name = path_list[i]+f\n",
    "        fish_read = io.imread(f_name)\n",
    "        fish = cv.cvtColor(fish_read, cv.COLOR_BGR2RGB)\n",
    "        fish_resize = cv.resize(fish, (100,100), interpolation=cv.INTER_AREA)\n",
    "        resize_path = \"resized/\"+path_list[i]+fish_name[i]+\"_\"+str(cnt)+\".jpg\"\n",
    "        cv.imwrite(resize_path, fish_resize)\n",
    "        for angle in range(15,180,15):\n",
    "            fish_rotate = transform.rotate(fish_resize,angle,preserve_range=True)\n",
    "            rotate_path = \"resized/\"+path_list[i]+fish_name[i]+\"_\"+str(cnt)+\"_rot_\"+str(angle)+\".jpg\"\n",
    "            cv.imwrite(rotate_path, fish_rotate)\n",
    "            fish_r_fliphr = cv.flip(fish_rotate, 1)\n",
    "            flip_r_path = \"resized/\"+path_list[i]+fish_name[i]+\"_\"+str(cnt)+\"_rot_\"+str(angle)+\"_fliphr\"+\".jpg\"\n",
    "            cv.imwrite(flip_r_path, fish_r_fliphr)\n",
    "        fish_fliphr = cv.flip(fish_resize, 1)\n",
    "        flip_path = \"resized/\"+path_list[i]+fish_name[i]+\"_\"+str(cnt)+\"_fliphr\"+\".jpg\"\n",
    "        cv.imwrite(flip_path, fish_fliphr)\n",
    "        cnt+=1"
   ]
  },
  {
   "cell_type": "code",
   "execution_count": null,
   "metadata": {},
   "outputs": [],
   "source": []
  }
 ],
 "metadata": {
  "kernelspec": {
   "display_name": "Python 3.10.6 64-bit",
   "language": "python",
   "name": "python3"
  },
  "language_info": {
   "codemirror_mode": {
    "name": "ipython",
    "version": 3
   },
   "file_extension": ".py",
   "mimetype": "text/x-python",
   "name": "python",
   "nbconvert_exporter": "python",
   "pygments_lexer": "ipython3",
   "version": "3.10.6"
  },
  "orig_nbformat": 4,
  "vscode": {
   "interpreter": {
    "hash": "d597cde149abeb15f6ee103d6835e72487950cb0d72203742dce2097b2edee99"
   }
  }
 },
 "nbformat": 4,
 "nbformat_minor": 2
}
